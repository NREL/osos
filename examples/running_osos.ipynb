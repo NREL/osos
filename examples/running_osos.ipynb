{
 "cells": [
  {
   "cell_type": "markdown",
   "id": "67d73f26-6e64-4e1e-a1cb-8795d513a857",
   "metadata": {},
   "source": [
    "# Running OSOS\n",
    "\n",
    "This notebook demonstrates how you can run OSOS from python. This allows you to dive in deeper to the usage stats, especially the github metrics. \n",
    "\n",
    "If you have not already run OSOS from the CLI, you should do that too. The OSOS CLI is a general purpose tool that you can use to pull usage stats for your projects straight from the command line. You can also run the CLI for several projects using a config file. Try running `osos --help` from the command line to get started with the CLI."
   ]
  },
  {
   "cell_type": "code",
   "execution_count": 1,
   "id": "5e715993-29ef-40f7-8750-d017b65c8df4",
   "metadata": {},
   "outputs": [],
   "source": [
    "import datetime\n",
    "import os\n",
    "import numpy as np\n",
    "import matplotlib.pyplot as plt\n",
    "import seaborn as sns\n",
    "from osos import Github\n",
    "\n",
    "sns.set_style(\"darkgrid\")"
   ]
  },
  {
   "cell_type": "code",
   "execution_count": 2,
   "id": "c2b13735-97e5-4b90-afa8-5d1b43c01e39",
   "metadata": {},
   "outputs": [],
   "source": [
    "msg = 'You need to set your github token in the GITHUB_TOKEN environment variable or input the string here explicitly'\n",
    "token = os.getenv('GITHUB_TOKEN', None)\n",
    "assert token is not None, msg"
   ]
  },
  {
   "cell_type": "markdown",
   "id": "d6bbf9e7-f394-4024-b653-8581f8e72fd7",
   "metadata": {},
   "source": [
    "# Init a Github API "
   ]
  },
  {
   "cell_type": "code",
   "execution_count": 3,
   "id": "6cd96a1d-f031-426e-a48b-f094e5d26dc6",
   "metadata": {},
   "outputs": [
    {
     "data": {
      "text/plain": [
       "\u001b[0;31mInit signature:\u001b[0m \u001b[0mGithub\u001b[0m\u001b[0;34m(\u001b[0m\u001b[0mowner\u001b[0m\u001b[0;34m,\u001b[0m \u001b[0mrepo\u001b[0m\u001b[0;34m,\u001b[0m \u001b[0mtoken\u001b[0m\u001b[0;34m=\u001b[0m\u001b[0;32mNone\u001b[0m\u001b[0;34m)\u001b[0m\u001b[0;34m\u001b[0m\u001b[0;34m\u001b[0m\u001b[0m\n",
       "\u001b[0;31mDocstring:\u001b[0m      Class to call github api and return osos-formatted usage data.\n",
       "\u001b[0;31mInit docstring:\u001b[0m\n",
       "Parameters\n",
       "----------\n",
       "owner : str\n",
       "    Repository owner, e.g. https://github.com/{owner}/{repo}\n",
       "repo : str\n",
       "    Repository name, e.g. https://github.com/{owner}/{repo}\n",
       "token : str | None\n",
       "    Github api authorization token. If none this gets retrieved from\n",
       "    the GITHUB_TOKEN environment variable\n",
       "\u001b[0;31mFile:\u001b[0m           ~/code/osos/osos/api_github/api_github.py\n",
       "\u001b[0;31mType:\u001b[0m           type\n",
       "\u001b[0;31mSubclasses:\u001b[0m     \n"
      ]
     },
     "metadata": {},
     "output_type": "display_data"
    }
   ],
   "source": [
    "Github?"
   ]
  },
  {
   "cell_type": "code",
   "execution_count": 4,
   "id": "8a8a78f1-fec7-4e2f-b814-1caa97590488",
   "metadata": {},
   "outputs": [
    {
     "data": {
      "text/plain": [
       "Github API interface for https://github.com/NREL/reV/"
      ]
     },
     "execution_count": 4,
     "metadata": {},
     "output_type": "execute_result"
    }
   ],
   "source": [
    "gh = Github('NREL', 'reV', token=token)\n",
    "gh"
   ]
  },
  {
   "cell_type": "markdown",
   "id": "ffb8d221-f5ea-4687-b81e-8b41fa5bddf5",
   "metadata": {},
   "source": [
    "# Find Closed Issues Statistics"
   ]
  },
  {
   "cell_type": "code",
   "execution_count": 5,
   "id": "430bc41a-e4a4-4a7d-8a82-7f585a65880a",
   "metadata": {},
   "outputs": [
    {
     "data": {
      "text/plain": [
       "\u001b[0;31mSignature:\u001b[0m \u001b[0mgh\u001b[0m\u001b[0;34m.\u001b[0m\u001b[0missues_closed\u001b[0m\u001b[0;34m(\u001b[0m\u001b[0mget_lifetimes\u001b[0m\u001b[0;34m=\u001b[0m\u001b[0;32mFalse\u001b[0m\u001b[0;34m,\u001b[0m \u001b[0;34m**\u001b[0m\u001b[0mkwargs\u001b[0m\u001b[0;34m)\u001b[0m\u001b[0;34m\u001b[0m\u001b[0;34m\u001b[0m\u001b[0m\n",
       "\u001b[0;31mDocstring:\u001b[0m\n",
       "Get data on the closed repo issues.\n",
       "\n",
       "Parameters\n",
       "----------\n",
       "get_lifetimes : bool\n",
       "    Flag to get the lifetime statistics of issues/pulls. Default is\n",
       "    false to reduce number of API queries. Turning this on requires\n",
       "    that we get the full data for every issue/pull. It is recommended\n",
       "    that users retrieve lifetime statistics manually when desired and\n",
       "    not as part of an automated OSOS workflow.\n",
       "kwargs : dict\n",
       "    Optional kwargs to get passed to requests.get()\n",
       "\n",
       "Returns\n",
       "-------\n",
       "out : int | dict\n",
       "    Number of closed issues, or if get_lifetimes is True, this returns\n",
       "    a dict with additional metrics.\n",
       "\u001b[0;31mFile:\u001b[0m      ~/code/osos/osos/api_github/api_github.py\n",
       "\u001b[0;31mType:\u001b[0m      method\n"
      ]
     },
     "metadata": {},
     "output_type": "display_data"
    }
   ],
   "source": [
    "gh.issues_closed?"
   ]
  },
  {
   "cell_type": "code",
   "execution_count": 6,
   "id": "104e60e0-c3c0-4b39-a13c-e793c835a937",
   "metadata": {},
   "outputs": [
    {
     "data": {
      "text/plain": [
       "151"
      ]
     },
     "execution_count": 6,
     "metadata": {},
     "output_type": "execute_result"
    }
   ],
   "source": [
    "gh.issues_closed()"
   ]
  },
  {
   "cell_type": "code",
   "execution_count": 7,
   "id": "6b303502-6bf9-440b-bb0c-c58f75089ed8",
   "metadata": {},
   "outputs": [
    {
     "data": {
      "text/plain": [
       "dict_keys(['issues_closed', 'issues_closed_count', 'issues_closed_lifetimes', 'issues_closed_mean_lifetime', 'issues_closed_median_lifetime'])"
      ]
     },
     "execution_count": 7,
     "metadata": {},
     "output_type": "execute_result"
    }
   ],
   "source": [
    "issues = gh.issues_closed(get_lifetimes=True)\n",
    "issues.keys()"
   ]
  },
  {
   "cell_type": "code",
   "execution_count": 8,
   "id": "3a4e0de7-f89d-4201-9833-7c0fb1e363aa",
   "metadata": {},
   "outputs": [
    {
     "data": {
      "text/plain": [
       "<matplotlib.legend.Legend at 0x7fbef0e631f0>"
      ]
     },
     "execution_count": 8,
     "metadata": {},
     "output_type": "execute_result"
    },
    {
     "data": {
      "image/png": "[encoded data removed]",
      "text/plain": [
       "<Figure size 720x360 with 1 Axes>"
      ]
     },
     "metadata": {},
     "output_type": "display_data"
    }
   ],
   "source": [
    "plt.figure(figsize=(10, 5))\n",
    "median = issues['issues_closed_median_lifetime']\n",
    "p25 = np.percentile(issues['issues_closed_lifetimes'], 25)\n",
    "p75 = np.percentile(issues['issues_closed_lifetimes'], 75)\n",
    "h = plt.hist(issues['issues_closed_lifetimes'], bins=50)[2]\n",
    "a = plt.plot([p25, p25], [0, 120])[0]\n",
    "b = plt.plot([median, median], [0, 120])[0]\n",
    "c = plt.plot([p75, p75], [0, 120])[0]\n",
    "plt.xlabel('Lifetime of Closed reV Issues (days)')\n",
    "plt.ylabel('Number of Issues')\n",
    "plt.legend([h, a, b, c], \n",
    "           ['Closed Issue Lifetimes', \n",
    "            '25th Percentile ({:.1f} days)'.format(p25),\n",
    "            'Median ({:.1f} days)'.format(median),\n",
    "            '75th Percentile ({:.1f} days)'.format(p75)]\n",
    "          )"
   ]
  },
  {
   "cell_type": "markdown",
   "id": "768cc5cf-14e1-4c55-93d3-7b72cb2a25ea",
   "metadata": {},
   "source": [
    "# Find Commits"
   ]
  },
  {
   "cell_type": "code",
   "execution_count": 9,
   "id": "747e32ce-a99c-4807-9e26-22e579dcef26",
   "metadata": {},
   "outputs": [
    {
     "data": {
      "text/plain": [
       "\u001b[0;31mSignature:\u001b[0m \u001b[0mgh\u001b[0m\u001b[0;34m.\u001b[0m\u001b[0mcommits\u001b[0m\u001b[0;34m(\u001b[0m\u001b[0mdate_start\u001b[0m\u001b[0;34m=\u001b[0m\u001b[0;32mNone\u001b[0m\u001b[0;34m,\u001b[0m \u001b[0mdate_iter\u001b[0m\u001b[0;34m=\u001b[0m\u001b[0;32mNone\u001b[0m\u001b[0;34m,\u001b[0m \u001b[0msearch_all\u001b[0m\u001b[0;34m=\u001b[0m\u001b[0;32mFalse\u001b[0m\u001b[0;34m,\u001b[0m \u001b[0;34m**\u001b[0m\u001b[0mkwargs\u001b[0m\u001b[0;34m)\u001b[0m\u001b[0;34m\u001b[0m\u001b[0;34m\u001b[0m\u001b[0m\n",
       "\u001b[0;31mDocstring:\u001b[0m\n",
       "Get the number of commits by day in a given set of dates.\n",
       "\n",
       "Parameters\n",
       "----------\n",
       "date_start : datetime.date | None\n",
       "    Option to search for commits from this date to today. Either input\n",
       "    this or the date_iter.\n",
       "date_iter : list | tuple | pd.DatetimeIndex | None\n",
       "    Iterable of dates to search for. Either input this or the\n",
       "    date_start.\n",
       "search_all : bool\n",
       "    Flag to search all commits or to terminate early (default) when the\n",
       "    commit date is before all dates in the date_iter\n",
       "kwargs : dict\n",
       "    Optional kwargs to get passed to requests.get()\n",
       "\n",
       "Returns\n",
       "-------\n",
       "out : pd.DataFrame\n",
       "    Timeseries of commit data based on date_iter as the index. Includes\n",
       "    columns for \"commits\".\n",
       "\u001b[0;31mFile:\u001b[0m      ~/code/osos/osos/api_github/api_github.py\n",
       "\u001b[0;31mType:\u001b[0m      method\n"
      ]
     },
     "metadata": {},
     "output_type": "display_data"
    }
   ],
   "source": [
    "gh.commits?"
   ]
  },
  {
   "cell_type": "code",
   "execution_count": 10,
   "id": "75d9cf24-7994-4d79-8e54-2a69769b8e75",
   "metadata": {},
   "outputs": [],
   "source": [
    "date_start = datetime.date.today() - datetime.timedelta(days=180)\n",
    "commits = gh.commits(date_start=date_start)"
   ]
  },
  {
   "cell_type": "code",
   "execution_count": 11,
   "id": "756967a0-7643-47cc-b3ea-fb9c884045a1",
   "metadata": {},
   "outputs": [
    {
     "data": {
      "text/html": [
       "<div>\n",
       "<style scoped>\n",
       "    .dataframe tbody tr th:only-of-type {\n",
       "        vertical-align: middle;\n",
       "    }\n",
       "\n",
       "    .dataframe tbody tr th {\n",
       "        vertical-align: top;\n",
       "    }\n",
       "\n",
       "    .dataframe thead th {\n",
       "        text-align: right;\n",
       "    }\n",
       "</style>\n",
       "<table border=\"1\" class=\"dataframe\">\n",
       "  <thead>\n",
       "    <tr style=\"text-align: right;\">\n",
       "      <th></th>\n",
       "      <th>commits</th>\n",
       "    </tr>\n",
       "  </thead>\n",
       "  <tbody>\n",
       "    <tr>\n",
       "      <th>2021-05-23</th>\n",
       "      <td>0</td>\n",
       "    </tr>\n",
       "    <tr>\n",
       "      <th>2021-05-24</th>\n",
       "      <td>1</td>\n",
       "    </tr>\n",
       "    <tr>\n",
       "      <th>2021-05-25</th>\n",
       "      <td>4</td>\n",
       "    </tr>\n",
       "    <tr>\n",
       "      <th>2021-05-26</th>\n",
       "      <td>0</td>\n",
       "    </tr>\n",
       "    <tr>\n",
       "      <th>2021-05-27</th>\n",
       "      <td>1</td>\n",
       "    </tr>\n",
       "    <tr>\n",
       "      <th>...</th>\n",
       "      <td>...</td>\n",
       "    </tr>\n",
       "    <tr>\n",
       "      <th>2021-11-15</th>\n",
       "      <td>1</td>\n",
       "    </tr>\n",
       "    <tr>\n",
       "      <th>2021-11-16</th>\n",
       "      <td>0</td>\n",
       "    </tr>\n",
       "    <tr>\n",
       "      <th>2021-11-17</th>\n",
       "      <td>0</td>\n",
       "    </tr>\n",
       "    <tr>\n",
       "      <th>2021-11-18</th>\n",
       "      <td>0</td>\n",
       "    </tr>\n",
       "    <tr>\n",
       "      <th>2021-11-19</th>\n",
       "      <td>0</td>\n",
       "    </tr>\n",
       "  </tbody>\n",
       "</table>\n",
       "<p>181 rows × 1 columns</p>\n",
       "</div>"
      ],
      "text/plain": [
       "            commits\n",
       "2021-05-23        0\n",
       "2021-05-24        1\n",
       "2021-05-25        4\n",
       "2021-05-26        0\n",
       "2021-05-27        1\n",
       "...             ...\n",
       "2021-11-15        1\n",
       "2021-11-16        0\n",
       "2021-11-17        0\n",
       "2021-11-18        0\n",
       "2021-11-19        0\n",
       "\n",
       "[181 rows x 1 columns]"
      ]
     },
     "execution_count": 11,
     "metadata": {},
     "output_type": "execute_result"
    }
   ],
   "source": [
    "commits"
   ]
  },
  {
   "cell_type": "code",
   "execution_count": 12,
   "id": "28628a80-0aa4-4765-af02-5552060a5c1e",
   "metadata": {},
   "outputs": [
    {
     "data": {
      "image/png": "[encoded data removed]",
      "text/plain": [
       "<Figure size 720x360 with 1 Axes>"
      ]
     },
     "metadata": {},
     "output_type": "display_data"
    }
   ],
   "source": [
    "fig = plt.figure(figsize=(10, 5))\n",
    "ax = fig.add_subplot(111)\n",
    "commits.plot(ax=ax)\n",
    "plt.ylabel('reV Commits by Day (Main Branch)')\n",
    "_ = plt.xticks(rotation=45)"
   ]
  },
  {
   "cell_type": "code",
   "execution_count": null,
   "id": "c3ddec0f-0fa1-45c5-b00f-f7cd9ed4239d",
   "metadata": {},
   "outputs": [],
   "source": []
  }
 ],
 "metadata": {
  "kernelspec": {
   "display_name": "Python 3 (ipykernel)",
   "language": "python",
   "name": "python3"
  },
  "language_info": {
   "codemirror_mode": {
    "name": "ipython",
    "version": 3
   },
   "file_extension": ".py",
   "mimetype": "text/x-python",
   "name": "python",
   "nbconvert_exporter": "python",
   "pygments_lexer": "ipython3",
   "version": "3.9.7"
  }
 },
 "nbformat": 4,
 "nbformat_minor": 5
}
